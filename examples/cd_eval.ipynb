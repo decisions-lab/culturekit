{
 "cells": [
  {
   "cell_type": "code",
   "execution_count": null,
   "metadata": {},
   "outputs": [],
   "source": [
    "import matplotlib.pyplot as plt\n",
    "import seaborn as sns\n",
    "import json\n",
    "\n",
    "# Edit the following constants to change the model and responses file\n",
    "MODEL_NAME = \"\"\n",
    "RESULTS_PATH = \"../data/results.json\"\n",
    "\n",
    "with open(RESULTS_PATH, \"r\") as f:\n",
    "    results = json.load(f)\n",
    "\n",
    "# Create individual plots for each dimension\n",
    "dimensions = ['PDI', 'IDV', 'UAI', 'MAS', 'LTO', 'IVR']\n",
    "hk_means = {'PDI': 0.68, 'IDV': 0.25, 'UAI': 0.29, 'MAS': 0.57, 'LTO': 0.61, 'IVR': 0.17}\n",
    "colors = {'PDI': '#7596a5', 'IDV': '#166c9c', 'UAI': '#a94b3b', 'MAS': '#2f774f', 'LTO': '#7f7eaa', 'IVR': '#ca863e'}\n",
    "fig, axes = plt.subplots(2, 3, figsize=(8, 18))  # Arrange plots in a 3x2 grid\n",
    "\n",
    "# Create a mapping for full names\n",
    "full_names = {\n",
    "    'PDI': 'Power Distance Index',\n",
    "    'IDV': 'Individualism',\n",
    "    'UAI': 'Uncertainty Avoidance Index',\n",
    "    'MAS': 'Masculinity',\n",
    "    'LTO': 'Long-Term Orientation',\n",
    "    'IVR': 'Indulgence vs. Restraint'\n",
    "}\n",
    "\n",
    "for ax, dimension in zip(axes.flatten(), dimensions):\n",
    "    # Check if dimension exists in results\n",
    "    if dimension in results:\n",
    "        y_data = [results[dimension]]\n",
    "        x_labels = [MODEL_NAME]\n",
    "        \n",
    "        sns.violinplot(data=y_data, ax=ax, color=colors[dimension])\n",
    "        ax.set_xticks(range(len(x_labels)))\n",
    "        ax.set_xticklabels(x_labels, rotation=45, ha='right')\n",
    "        ax.set_ylabel(f'High {dimension} Likelihood')\n",
    "        ax.set_ylim(-0.2, 1.2)\n",
    "        ax.axhline(0.4, linestyle='--', color='gray')\n",
    "        ax.axhline(0.6, linestyle='--', color='gray')\n",
    "        ax.axhline(hk_means[dimension], linestyle='-', color='red', label='HK Mean')\n",
    "        ax.set_title(f'{full_names[dimension]} ({dimension})')\n",
    "        ax.legend()\n",
    "\n",
    "plt.tight_layout()\n",
    "plt.show()"
   ]
  }
 ],
 "metadata": {
  "kernelspec": {
   "display_name": "culturekit-pRGgoaNx-py3.13",
   "language": "python",
   "name": "python3"
  },
  "language_info": {
   "codemirror_mode": {
    "name": "ipython",
    "version": 3
   },
   "file_extension": ".py",
   "mimetype": "text/x-python",
   "name": "python",
   "nbconvert_exporter": "python",
   "pygments_lexer": "ipython3",
   "version": "3.13.2"
  }
 },
 "nbformat": 4,
 "nbformat_minor": 2
}
